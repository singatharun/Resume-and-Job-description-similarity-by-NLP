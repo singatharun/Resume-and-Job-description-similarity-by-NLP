{
  "nbformat": 4,
  "nbformat_minor": 0,
  "metadata": {
    "colab": {
      "name": "Resume to Job description Comparison.ipynb",
      "provenance": []
    },
    "kernelspec": {
      "name": "python3",
      "display_name": "Python 3"
    },
    "language_info": {
      "name": "python"
    }
  },
  "cells": [
    {
      "cell_type": "code",
      "source": [
        "import nltk\n",
        "nltk.download(\"punkt\")\n",
        "from nltk.tokenize import sent_tokenize\n",
        "from nltk.tokenize import word_tokenize\n",
        "import gensim\n",
        "import numpy as np\n",
        "from warnings import filterwarnings\n",
        "filterwarnings('ignore')"
      ],
      "metadata": {
        "colab": {
          "base_uri": "https://localhost:8080/"
        },
        "id": "1uzHAVwgzigo",
        "outputId": "0ae83e1b-c182-4745-fd8a-a0a17fa4efe9"
      },
      "execution_count": 37,
      "outputs": [
        {
          "output_type": "stream",
          "name": "stdout",
          "text": [
            "[nltk_data] Downloading package punkt to /root/nltk_data...\n",
            "[nltk_data]   Package punkt is already up-to-date!\n"
          ]
        }
      ]
    },
    {
      "cell_type": "code",
      "source": [
        "filedocument=[]\n",
        "with open(\"jobdescription.txt\") as f:\n",
        "  sentences=sent_tokenize(f.read())\n",
        "  for sentence in sentences:\n",
        "    filedocument.append(sentence)"
      ],
      "metadata": {
        "id": "Y83ULsYY-8g5"
      },
      "execution_count": 39,
      "outputs": []
    },
    {
      "cell_type": "code",
      "source": [
        "gen_docs=[[w.lower() for w in word_tokenize(text)] for text in filedocument]"
      ],
      "metadata": {
        "id": "QOm6qCdT_WlG"
      },
      "execution_count": 40,
      "outputs": []
    },
    {
      "cell_type": "code",
      "source": [
        "dictionary=gensim.corpora.Dictionary(gen_docs)\n",
        "corpus=[dictionary.doc2bow(gen_doc) for gen_doc in gen_docs]"
      ],
      "metadata": {
        "id": "Bb-bR9ReC-iJ"
      },
      "execution_count": 41,
      "outputs": []
    },
    {
      "cell_type": "code",
      "source": [
        "tf_idf=gensim.models.TfidfModel(corpus)"
      ],
      "metadata": {
        "id": "zU24hISaDQFv"
      },
      "execution_count": 42,
      "outputs": []
    },
    {
      "cell_type": "code",
      "source": [
        "sims=gensim.similarities.Similarity(\"Documents/\" ,tf_idf[corpus], num_features=len(dictionary))"
      ],
      "metadata": {
        "id": "J7HjtmlTDqwa"
      },
      "execution_count": 43,
      "outputs": []
    },
    {
      "cell_type": "code",
      "source": [
        "file2_document=[]\n",
        "with open(\"resume.txt\") as f:\n",
        "  sentences=sent_tokenize(f.read())\n",
        "  for sentenc in sentences:\n",
        "    file2_document.append(sentence)"
      ],
      "metadata": {
        "id": "owHUNI4MEQ8w"
      },
      "execution_count": 44,
      "outputs": []
    },
    {
      "cell_type": "code",
      "source": [
        "for line in file2_document:\n",
        "  query_doc=[w.lower() for w in word_tokenize(line)]\n",
        "  query_doc_bow=dictionary.doc2bow((query_doc))"
      ],
      "metadata": {
        "id": "UmLgb60zFAcO"
      },
      "execution_count": 45,
      "outputs": []
    },
    {
      "cell_type": "code",
      "source": [
        "query_doc_tf_idf=tf_idf[query_doc_bow]\n",
        "sum_of_sims=(np.sum(sims[query_doc_tf_idf], dtype=np.float32))\n",
        "percentage_of_similarity=round(float(sum_of_sims/len(filedocument))*100)\n",
        "print(\"Percentage of similarity between resume and given job description is {}%\".format(percentage_of_similarity))"
      ],
      "metadata": {
        "colab": {
          "base_uri": "https://localhost:8080/"
        },
        "id": "AxRcvxNxFR7G",
        "outputId": "30ddaef3-5323-4c3c-aa4c-a912481f9541"
      },
      "execution_count": 52,
      "outputs": [
        {
          "output_type": "stream",
          "name": "stdout",
          "text": [
            "Percentage of similarity between resume and given job description is 23%\n"
          ]
        }
      ]
    },
    {
      "cell_type": "code",
      "source": [
        ""
      ],
      "metadata": {
        "id": "V7oUD1ozF8oE"
      },
      "execution_count": null,
      "outputs": []
    }
  ]
}